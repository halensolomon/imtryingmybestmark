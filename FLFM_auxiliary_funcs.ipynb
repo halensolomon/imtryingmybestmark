{
 "cells": [
  {
   "cell_type": "code",
   "execution_count": 2,
   "metadata": {},
   "outputs": [],
   "source": [
    "import torch\n",
    "import os\n",
    "import gc\n",
    "import numpy as np\n",
    "import cv2 as cv\n",
    "import math"
   ]
  },
  {
   "cell_type": "markdown",
   "metadata": {},
   "source": [
    "# Auxillary Functions"
   ]
  },
  {
   "cell_type": "markdown",
   "metadata": {},
   "source": [
    "## Images to PSF"
   ]
  },
  {
   "cell_type": "code",
   "execution_count": 20,
   "metadata": {},
   "outputs": [],
   "source": [
    "def img_to_pt(path):\n",
    "    # Find all images in a folder:\n",
    "    imgs = []\n",
    "    accepted_filetypes = ['tif', 'tiff', 'png', 'jpg', 'jpeg', 'bmp']\n",
    "    for f in os.listdir(path):\n",
    "        ext = os.path.splitext(f)[1][1:]\n",
    "        if ext.lower() not in accepted_filetypes:\n",
    "            continue\n",
    "        imgs.append(cv.imread(path+f, cv.IMREAD_GRAYSCALE).astype(np.float32))\n",
    "\n",
    "    # Convert them into a tensor for pyTorch\n",
    "    tensor_imgs = torch.from_numpy(np.array(imgs,dtype=np.float32)).to(torch.float32)\n",
    "    del imgs\n",
    "    gc.collect()\n",
    "    \n",
    "    return tensor_imgs"
   ]
  },
  {
   "cell_type": "markdown",
   "metadata": {},
   "source": [
    "# $2^n$ for FFTs"
   ]
  },
  {
   "cell_type": "code",
   "execution_count": 4,
   "metadata": {},
   "outputs": [],
   "source": [
    "def two_n_squareify(tensor):\n",
    "    # This function takes a tensor and pads it with zeros until the dimensions are a power of 2\n",
    "    # The return tensor is a square tensor\n",
    "    \n",
    "    # Find the next power of 2\n",
    "    next_power = max(2**math.ceil(math.log2(len(tensor[0,:,0]))), 2**math.ceil(math.log2(len(tensor[0,0,:]))))\n",
    "    \n",
    "    # Find the amount of padding needed\n",
    "    x_pad = next_power - len(tensor[0,:,0])\n",
    "    y_pad = next_power - len(tensor[0,0,:])\n",
    "    \n",
    "    # Check to see if it's even or odd\n",
    "    if x_pad % 2 == 0:\n",
    "        l_x_pad = int(x_pad/2)\n",
    "        r_x_pad = int(x_pad/2)\n",
    "    else:\n",
    "        l_x_pad = int(x_pad/2)\n",
    "        r_x_pad = x_pad - int(x_pad/2)\n",
    "    \n",
    "    if y_pad % 2 == 0:\n",
    "        l_y_pad = int(y_pad/2)\n",
    "        r_y_pad = int(y_pad/2)\n",
    "    else:\n",
    "        l_y_pad = int(y_pad/2)\n",
    "        r_y_pad = y_pad - int(y_pad/2)\n",
    "    \n",
    "    return_tensor = torch.nn.functional.pad(tensor, (l_y_pad, r_y_pad, l_x_pad, r_x_pad), \"constant\", 0)\n",
    "    \n",
    "    return return_tensor"
   ]
  },
  {
   "cell_type": "markdown",
   "metadata": {},
   "source": [
    "## Load PSF"
   ]
  },
  {
   "cell_type": "code",
   "execution_count": null,
   "metadata": {},
   "outputs": [],
   "source": [
    "def load_psf(path, normalize):\n",
    "    # Loads the PSF stack from a path\n",
    "    #path = r'/Users/halensolomon/Code/FLFM_local/testing/psf_stack.pt'\n",
    "    \n",
    "    # if the file type is .pt, then we can just load it\n",
    "    if path[-3:] == '.pt':\n",
    "        psf = torch.load(path)\n",
    "        \n",
    "        if normalize == True:\n",
    "            for i in range(len(psf[:,0,0])):\n",
    "                psf[i,:,:] = torch.div(psf[i,:,:],torch.sum(psf[i,:,:])) # Sum of each axial slice should be 1\n",
    "    \n",
    "    # if the path is actually a folder, then we need to load in all the files in the folder\n",
    "    elif os.path.isdir(path):\n",
    "        psf = torch.zeros(len(os.listdir(path)), len(Image.open(path + '/' + os.listdir(path)[0]).convert('L').getdata()), len(Image.open(path + '/' + os.listdir(path)[0]).convert('L').getdata()))\n",
    "        \n",
    "        for i in range(len(os.listdir(path))): # Format is [depth, x, y]\n",
    "            psf[i,:,:] = torch.from_numpy(np.array(Image.open(path + '/' + os.listdir(path)[i]).convert('L').getdata()).reshape(Image.open(path + '/' + os.listdir(path)[i]).convert('L').size))\n",
    "            if normalize == True:\n",
    "                psf[i,:,:] = torch.div(psf[i,:,:],torch.sum(psf[i,:,:])) # Sum of each axial slice should be 1\n",
    "    \n",
    "    return psf"
   ]
  }
 ],
 "metadata": {
  "kernelspec": {
   "display_name": "halen",
   "language": "python",
   "name": "python3"
  },
  "language_info": {
   "codemirror_mode": {
    "name": "ipython",
    "version": 3
   },
   "file_extension": ".py",
   "mimetype": "text/x-python",
   "name": "python",
   "nbconvert_exporter": "python",
   "pygments_lexer": "ipython3",
   "version": "3.11.7"
  }
 },
 "nbformat": 4,
 "nbformat_minor": 2
}
