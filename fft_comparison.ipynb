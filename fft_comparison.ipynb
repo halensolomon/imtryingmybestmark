{
 "cells": [
  {
   "cell_type": "code",
   "execution_count": 2,
   "metadata": {},
   "outputs": [],
   "source": [
    "import cv2 as cv\n",
    "import torch\n",
    "import scipy.signal as signal\n",
    "import numpy as np\n",
    "import matplotlib.pyplot as plt\n",
    "from fft_conv_pytorch import fft_conv, FFTConv2d\n",
    "import math\n",
    "import gc"
   ]
  },
  {
   "cell_type": "code",
   "execution_count": 3,
   "metadata": {},
   "outputs": [],
   "source": [
    "def two_n_squareify(tensor):\n",
    "    # This function takes a tensor and pads it with zeros until the dimensions are a power of 2\n",
    "    # The return tensor is a square tensor\n",
    "    \n",
    "    # Find the next power of 2\n",
    "    next_power = max(2**math.ceil(math.log2(len(tensor[0,:,0]))), 2**math.ceil(math.log2(len(tensor[0,0,:]))))\n",
    "    \n",
    "    # Find the amount of padding needed\n",
    "    x_pad = next_power - len(tensor[0,:,0])\n",
    "    y_pad = next_power - len(tensor[0,0,:])\n",
    "    \n",
    "    # Check to see if it's even or odd\n",
    "    if x_pad % 2 == 0:\n",
    "        l_x_pad = int(x_pad/2)\n",
    "        r_x_pad = int(x_pad/2)\n",
    "    else:\n",
    "        l_x_pad = int(x_pad/2)\n",
    "        r_x_pad = x_pad - int(x_pad/2)\n",
    "    \n",
    "    if y_pad % 2 == 0:\n",
    "        l_y_pad = int(y_pad/2)\n",
    "        r_y_pad = int(y_pad/2)\n",
    "    else:\n",
    "        l_y_pad = int(y_pad/2)\n",
    "        r_y_pad = y_pad - int(y_pad/2)\n",
    "    \n",
    "    return_tensor = torch.nn.functional.pad(tensor, (l_y_pad, r_y_pad, l_x_pad, r_x_pad), \"constant\", 0)\n",
    "    \n",
    "    return return_tensor"
   ]
  },
  {
   "cell_type": "code",
   "execution_count": 4,
   "metadata": {},
   "outputs": [],
   "source": [
    "image = two_n_squareify(torch.from_numpy(np.array(cv.imread(r'./test_images/img_time1_1.tif', cv.IMREAD_GRAYSCALE))).to(torch.float32).unsqueeze(0))"
   ]
  },
  {
   "cell_type": "code",
   "execution_count": 5,
   "metadata": {},
   "outputs": [],
   "source": [
    "forward = two_n_squareify(torch.permute(torch.load(r'./models_DONOTCOMMIT/test_models/forward.pt'), (2,0,1)).to(torch.float32))"
   ]
  },
  {
   "cell_type": "code",
   "execution_count": 6,
   "metadata": {},
   "outputs": [],
   "source": [
    "forward[:,:,:] = torch.div(forward[:,:,:], torch.sum(forward[:,:,:], dim=(1,2)).unsqueeze(1).unsqueeze(2))"
   ]
  },
  {
   "cell_type": "code",
   "execution_count": 7,
   "metadata": {},
   "outputs": [
    {
     "name": "stdout",
     "output_type": "stream",
     "text": [
      "torch.Size([1, 8192, 8192]) torch.Size([20, 8192, 8192])\n"
     ]
    }
   ],
   "source": [
    "print(image.shape, forward.shape)"
   ]
  },
  {
   "cell_type": "code",
   "execution_count": 8,
   "metadata": {},
   "outputs": [],
   "source": [
    "torch.cuda.empty_cache()"
   ]
  },
  {
   "cell_type": "code",
   "execution_count": 9,
   "metadata": {},
   "outputs": [],
   "source": [
    "backward = torch.transpose(forward, 1, 2)"
   ]
  },
  {
   "cell_type": "code",
   "execution_count": 10,
   "metadata": {},
   "outputs": [
    {
     "name": "stdout",
     "output_type": "stream",
     "text": [
      "torch.Size([20, 8192, 8192])\n"
     ]
    }
   ],
   "source": [
    "print(backward.shape)"
   ]
  },
  {
   "cell_type": "code",
   "execution_count": 11,
   "metadata": {},
   "outputs": [],
   "source": [
    "def fft_convolve_images(image, kernel_stack, summation = False):\n",
    "    # image is the image to be convolved\n",
    "    # kernel_stack is the stack of kernels to be convolved with the image\n",
    "    \n",
    "    # The image and the kernel stack should be the same size\n",
    "    # The kernel stack should be in the format [depth, x, y]\n",
    "    return_tensor = torch.fft.ifftshift(torch.fft.ifft2(torch.mul(torch.fft.fft2(image), torch.fft.fft2(torch.div(kernel_stack, torch.sum(kernel_stack, dim = (1,2)).unsqueeze(1).unsqueeze(2)))), dim = (1,2))) # Convolve the image with the kernel stack\n",
    "        \n",
    "    if summation == True:\n",
    "        return_tensor = torch.sum(return_tensor, 0) # Sum all of the convolutions\n",
    "    \n",
    "    return return_tensor"
   ]
  },
  {
   "cell_type": "code",
   "execution_count": 12,
   "metadata": {},
   "outputs": [],
   "source": [
    "torch.backends.cudnn.deterministic=True"
   ]
  },
  {
   "cell_type": "code",
   "execution_count": 13,
   "metadata": {},
   "outputs": [
    {
     "data": {
      "text/plain": [
       "16"
      ]
     },
     "execution_count": 13,
     "metadata": {},
     "output_type": "execute_result"
    }
   ],
   "source": [
    "gc.collect()"
   ]
  },
  {
   "cell_type": "code",
   "execution_count": 14,
   "metadata": {},
   "outputs": [],
   "source": [
    "torch.cuda.empty_cache()"
   ]
  },
  {
   "cell_type": "code",
   "execution_count": 36,
   "metadata": {},
   "outputs": [],
   "source": [
    "single_conv = FFTConv2d(1, 1, kernel_size = 8192, stride = 1, padding = 'same', bias = False)"
   ]
  },
  {
   "cell_type": "code",
   "execution_count": 37,
   "metadata": {},
   "outputs": [
    {
     "data": {
      "text/plain": [
       "0"
      ]
     },
     "execution_count": 37,
     "metadata": {},
     "output_type": "execute_result"
    }
   ],
   "source": [
    "torch.cuda.empty_cache()\n",
    "gc.collect()"
   ]
  },
  {
   "cell_type": "code",
   "execution_count": 38,
   "metadata": {},
   "outputs": [],
   "source": [
    "conv = torch.empty((1,8192, 8192)).to('cuda')\n",
    "for i in range(len(forward[:,0,0])):\n",
    "    with torch.no_grad():\n",
    "        single_conv.weight = torch.nn.Parameter(forward[i,:,:].unsqueeze(0).detach().to('cuda'))\n",
    "        conv += single_conv(image.to('cuda').detach())\n",
    "        torch.cuda.empty_cache()\n",
    "        gc.collect()"
   ]
  },
  {
   "cell_type": "code",
   "execution_count": 39,
   "metadata": {},
   "outputs": [
    {
     "name": "stdout",
     "output_type": "stream",
     "text": [
      "tensor([[[19.0891, 19.0672, 19.1015,  ...,  0.0253,  0.0235,  0.0216],\n",
      "         [19.0891, 19.0672, 19.1015,  ...,  0.0253,  0.0235,  0.0216],\n",
      "         [19.0891, 19.0672, 19.1015,  ...,  0.0253,  0.0235,  0.0216],\n",
      "         ...,\n",
      "         [19.0891, 19.0672, 19.1015,  ...,  0.0253,  0.0235,  0.0216],\n",
      "         [19.0891, 19.0672, 19.1015,  ...,  0.0253,  0.0235,  0.0216],\n",
      "         [19.0891, 19.0672, 19.1015,  ...,  0.0253,  0.0235,  0.0216]]],\n",
      "       device='cuda:0')\n"
     ]
    }
   ],
   "source": [
    "print(conv)"
   ]
  },
  {
   "cell_type": "code",
   "execution_count": 41,
   "metadata": {},
   "outputs": [
    {
     "data": {
      "text/plain": [
       "<matplotlib.image.AxesImage at 0x1e52f83de50>"
      ]
     },
     "execution_count": 41,
     "metadata": {},
     "output_type": "execute_result"
    },
    {
     "data": {
      "image/png": "[encoded data removed]",
      "text/plain": [
       "<Figure size 640x480 with 1 Axes>"
      ]
     },
     "metadata": {},
     "output_type": "display_data"
    }
   ],
   "source": [
    "plt.imshow(conv[0,:,:].cpu().detach(), cmap = 'gray')"
   ]
  },
  {
   "cell_type": "code",
   "execution_count": 34,
   "metadata": {},
   "outputs": [
    {
     "name": "stdout",
     "output_type": "stream",
     "text": [
      "torch.Size([8192, 8192])\n"
     ]
    }
   ],
   "source": [
    "print(forward[0,:,:].shape)"
   ]
  },
  {
   "cell_type": "code",
   "execution_count": null,
   "metadata": {},
   "outputs": [],
   "source": []
  }
 ],
 "metadata": {
  "kernelspec": {
   "display_name": "fluids",
   "language": "python",
   "name": "python3"
  },
  "language_info": {
   "codemirror_mode": {
    "name": "ipython",
    "version": 3
   },
   "file_extension": ".py",
   "mimetype": "text/x-python",
   "name": "python",
   "nbconvert_exporter": "python",
   "pygments_lexer": "ipython3",
   "version": "3.11.7"
  }
 },
 "nbformat": 4,
 "nbformat_minor": 2
}
