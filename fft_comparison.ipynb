{
 "cells": [
  {
   "cell_type": "code",
   "execution_count": 2,
   "metadata": {},
   "outputs": [],
   "source": [
    "import torch\n",
    "import scipy.signal as signal\n",
    "import numpy as np\n",
    "import matplotlib.pyplot as plt"
   ]
  },
  {
   "cell_type": "code",
   "execution_count": 1,
   "metadata": {},
   "outputs": [],
   "source": [
    "def fft_convolve_images(image, kernel_stack, summation = False):\n",
    "    # image is the image to be convolved\n",
    "    # kernel_stack is the stack of kernels to be convolved with the image\n",
    "    \n",
    "    # The image and the kernel stack should be the same size\n",
    "    # The kernel stack should be in the format [depth, x, y]\n",
    "    return_tensor = torch.fft.ifftshift(torch.fft.ifft2(torch.mul(torch.fft.fft2(image), torch.fft.fft2(torch.div(kernel_stack, torch.sum(kernel_stack, dim = (1,2)).unsqueeze(1).unsqueeze(2)))), dim = (1,2))) # Convolve the image with the kernel stack\n",
    "        \n",
    "    if summation == True:\n",
    "        return_tensor = torch.sum(return_tensor, 0) # Sum all of the convolutions\n",
    "    \n",
    "    return return_tensor"
   ]
  },
  {
   "cell_type": "code",
   "execution_count": null,
   "metadata": {},
   "outputs": [],
   "source": [
    "torch_convolution_1tovol = torch.nn.Conv2d(1, len(PSF[]), kernel_size = (len(PSF[0,:,0]), len(PSF[0,0,:])), stride = 1, padding = 0, bias = False).to(device)\n",
    "torch_convolution_volto1 = torch.nn.Conv2d(len(PSF[:,0,0]), 1, kernel_size = (len(PSF[0,:,0]), len(PSF[0,0,:])), stride = 1, padding = 0, bias = False).to(device)"
   ]
  },
  {
   "cell_type": "code",
   "execution_count": null,
   "metadata": {},
   "outputs": [],
   "source": [
    "psf = torch.load"
   ]
  }
 ],
 "metadata": {
  "kernelspec": {
   "display_name": "fluids",
   "language": "python",
   "name": "python3"
  },
  "language_info": {
   "codemirror_mode": {
    "name": "ipython",
    "version": 3
   },
   "file_extension": ".py",
   "mimetype": "text/x-python",
   "name": "python",
   "nbconvert_exporter": "python",
   "pygments_lexer": "ipython3",
   "version": "3.11.6"
  }
 },
 "nbformat": 4,
 "nbformat_minor": 2
}
