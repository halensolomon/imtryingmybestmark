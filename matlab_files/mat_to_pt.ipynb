{
 "cells": [
  {
   "cell_type": "code",
   "execution_count": 21,
   "metadata": {},
   "outputs": [],
   "source": [
    "import scipy.io as sio\n",
    "import scipy.sparse as sp\n",
    "import torch\n",
    "import numpy as np"
   ]
  },
  {
   "cell_type": "code",
   "execution_count": 14,
   "metadata": {},
   "outputs": [],
   "source": [
    "H_full_sp_sp = sio.matlab.loadmat('Ht_full.mat')['Ht'][0][0]"
   ]
  },
  {
   "cell_type": "code",
   "execution_count": 16,
   "metadata": {},
   "outputs": [
    {
     "name": "stdout",
     "output_type": "stream",
     "text": [
      "[<5119x6399 sparse matrix of type '<class 'numpy.float64'>'\n",
      " \twith 76015 stored elements in Compressed Sparse Column format>\n",
      " <5119x6399 sparse matrix of type '<class 'numpy.float64'>'\n",
      " \twith 62728 stored elements in Compressed Sparse Column format>\n",
      " <5119x6399 sparse matrix of type '<class 'numpy.float64'>'\n",
      " \twith 44944 stored elements in Compressed Sparse Column format>\n",
      " <5119x6399 sparse matrix of type '<class 'numpy.float64'>'\n",
      " \twith 35552 stored elements in Compressed Sparse Column format>\n",
      " <5119x6399 sparse matrix of type '<class 'numpy.float64'>'\n",
      " \twith 31698 stored elements in Compressed Sparse Column format>\n",
      " <5119x6399 sparse matrix of type '<class 'numpy.float64'>'\n",
      " \twith 31689 stored elements in Compressed Sparse Column format>\n",
      " <5119x6399 sparse matrix of type '<class 'numpy.float64'>'\n",
      " \twith 23025 stored elements in Compressed Sparse Column format>\n",
      " <5119x6399 sparse matrix of type '<class 'numpy.float64'>'\n",
      " \twith 16110 stored elements in Compressed Sparse Column format>\n",
      " <5119x6399 sparse matrix of type '<class 'numpy.float64'>'\n",
      " \twith 12619 stored elements in Compressed Sparse Column format>\n",
      " <5119x6399 sparse matrix of type '<class 'numpy.float64'>'\n",
      " \twith 6697 stored elements in Compressed Sparse Column format>\n",
      " <5119x6399 sparse matrix of type '<class 'numpy.float64'>'\n",
      " \twith 3196 stored elements in Compressed Sparse Column format>\n",
      " <5119x6399 sparse matrix of type '<class 'numpy.float64'>'\n",
      " \twith 2106 stored elements in Compressed Sparse Column format>\n",
      " <5119x6399 sparse matrix of type '<class 'numpy.float64'>'\n",
      " \twith 894 stored elements in Compressed Sparse Column format>\n",
      " <5119x6399 sparse matrix of type '<class 'numpy.float64'>'\n",
      " \twith 847 stored elements in Compressed Sparse Column format>\n",
      " <5119x6399 sparse matrix of type '<class 'numpy.float64'>'\n",
      " \twith 892 stored elements in Compressed Sparse Column format>\n",
      " <5119x6399 sparse matrix of type '<class 'numpy.float64'>'\n",
      " \twith 1967 stored elements in Compressed Sparse Column format>\n",
      " <5119x6399 sparse matrix of type '<class 'numpy.float64'>'\n",
      " \twith 3177 stored elements in Compressed Sparse Column format>\n",
      " <5119x6399 sparse matrix of type '<class 'numpy.float64'>'\n",
      " \twith 6430 stored elements in Compressed Sparse Column format>\n",
      " <5119x6399 sparse matrix of type '<class 'numpy.float64'>'\n",
      " \twith 11588 stored elements in Compressed Sparse Column format>\n",
      " <5119x6399 sparse matrix of type '<class 'numpy.float64'>'\n",
      " \twith 15745 stored elements in Compressed Sparse Column format>\n",
      " <5119x6399 sparse matrix of type '<class 'numpy.float64'>'\n",
      " \twith 22645 stored elements in Compressed Sparse Column format>]\n"
     ]
    }
   ],
   "source": [
    "print(H_full_sp_sp)"
   ]
  },
  {
   "cell_type": "code",
   "execution_count": 18,
   "metadata": {},
   "outputs": [],
   "source": [
    "Ht_revision = [] \n",
    "\n",
    "for i in range(H_full_sp_sp.shape[0]):\n",
    "    Ht_revision.append(sp.csc_matrix.todense(H_full_sp_sp[i]))"
   ]
  },
  {
   "cell_type": "code",
   "execution_count": 22,
   "metadata": {},
   "outputs": [],
   "source": [
    "Ht_revision_pt = torch.from_numpy(np.array(Ht_revision))"
   ]
  },
  {
   "cell_type": "code",
   "execution_count": 23,
   "metadata": {},
   "outputs": [
    {
     "name": "stdout",
     "output_type": "stream",
     "text": [
      "tensor([[[0., 0., 0.,  ..., 0., 0., 0.],\n",
      "         [0., 0., 0.,  ..., 0., 0., 0.],\n",
      "         [0., 0., 0.,  ..., 0., 0., 0.],\n",
      "         ...,\n",
      "         [0., 0., 0.,  ..., 0., 0., 0.],\n",
      "         [0., 0., 0.,  ..., 0., 0., 0.],\n",
      "         [0., 0., 0.,  ..., 0., 0., 0.]],\n",
      "\n",
      "        [[0., 0., 0.,  ..., 0., 0., 0.],\n",
      "         [0., 0., 0.,  ..., 0., 0., 0.],\n",
      "         [0., 0., 0.,  ..., 0., 0., 0.],\n",
      "         ...,\n",
      "         [0., 0., 0.,  ..., 0., 0., 0.],\n",
      "         [0., 0., 0.,  ..., 0., 0., 0.],\n",
      "         [0., 0., 0.,  ..., 0., 0., 0.]],\n",
      "\n",
      "        [[0., 0., 0.,  ..., 0., 0., 0.],\n",
      "         [0., 0., 0.,  ..., 0., 0., 0.],\n",
      "         [0., 0., 0.,  ..., 0., 0., 0.],\n",
      "         ...,\n",
      "         [0., 0., 0.,  ..., 0., 0., 0.],\n",
      "         [0., 0., 0.,  ..., 0., 0., 0.],\n",
      "         [0., 0., 0.,  ..., 0., 0., 0.]],\n",
      "\n",
      "        ...,\n",
      "\n",
      "        [[0., 0., 0.,  ..., 0., 0., 0.],\n",
      "         [0., 0., 0.,  ..., 0., 0., 0.],\n",
      "         [0., 0., 0.,  ..., 0., 0., 0.],\n",
      "         ...,\n",
      "         [0., 0., 0.,  ..., 0., 0., 0.],\n",
      "         [0., 0., 0.,  ..., 0., 0., 0.],\n",
      "         [0., 0., 0.,  ..., 0., 0., 0.]],\n",
      "\n",
      "        [[0., 0., 0.,  ..., 0., 0., 0.],\n",
      "         [0., 0., 0.,  ..., 0., 0., 0.],\n",
      "         [0., 0., 0.,  ..., 0., 0., 0.],\n",
      "         ...,\n",
      "         [0., 0., 0.,  ..., 0., 0., 0.],\n",
      "         [0., 0., 0.,  ..., 0., 0., 0.],\n",
      "         [0., 0., 0.,  ..., 0., 0., 0.]],\n",
      "\n",
      "        [[0., 0., 0.,  ..., 0., 0., 0.],\n",
      "         [0., 0., 0.,  ..., 0., 0., 0.],\n",
      "         [0., 0., 0.,  ..., 0., 0., 0.],\n",
      "         ...,\n",
      "         [0., 0., 0.,  ..., 0., 0., 0.],\n",
      "         [0., 0., 0.,  ..., 0., 0., 0.],\n",
      "         [0., 0., 0.,  ..., 0., 0., 0.]]], dtype=torch.float64)\n"
     ]
    }
   ],
   "source": [
    "print(Ht_revision_pt)"
   ]
  },
  {
   "cell_type": "code",
   "execution_count": 26,
   "metadata": {},
   "outputs": [],
   "source": [
    "torch.save(Ht_revision_pt, './Ht_revision.pt')"
   ]
  },
  {
   "cell_type": "code",
   "execution_count": null,
   "metadata": {},
   "outputs": [],
   "source": []
  }
 ],
 "metadata": {
  "kernelspec": {
   "display_name": "halen",
   "language": "python",
   "name": "python3"
  },
  "language_info": {
   "codemirror_mode": {
    "name": "ipython",
    "version": 3
   },
   "file_extension": ".py",
   "mimetype": "text/x-python",
   "name": "python",
   "nbconvert_exporter": "python",
   "pygments_lexer": "ipython3",
   "version": "3.11.7"
  }
 },
 "nbformat": 4,
 "nbformat_minor": 2
}
