{
 "cells": [
  {
   "cell_type": "code",
   "execution_count": 3,
   "metadata": {},
   "outputs": [],
   "source": [
    "import matplotlib.pyplot as plt\n",
    "import numpy as np\n",
    "import pandas as pd\n",
    "import scipy as sp\n",
    "import os\n",
    "from PIL import Image as im\n",
    "import napari as nap"
   ]
  },
  {
   "cell_type": "code",
   "execution_count": 23,
   "metadata": {},
   "outputs": [],
   "source": [
    "slices = [f for f in os.listdir('./test_images/1/') if f.endswith('.tif')]\n",
    "images_array = []\n",
    "\n",
    "for files in slices:\n",
    "    img = im.open('./test_images/1/' + files)\n",
    "    images_array.append(np.array(img))"
   ]
  },
  {
   "cell_type": "code",
   "execution_count": 24,
   "metadata": {},
   "outputs": [],
   "source": [
    "# Make thicknesses of the slices by manually replicating them mulitple times\n",
    "thickness = 5\n",
    "thickness_array = []\n",
    "for i in range(len(images_array)):\n",
    "    for j in range(thickness):\n",
    "        thickness_array.append(images_array[i])"
   ]
  },
  {
   "cell_type": "code",
   "execution_count": 25,
   "metadata": {},
   "outputs": [],
   "source": [
    "images_array = np.array([images_array])\n",
    "thickness_array = np.array([thickness_array])"
   ]
  },
  {
   "cell_type": "code",
   "execution_count": 26,
   "metadata": {},
   "outputs": [
    {
     "name": "stdout",
     "output_type": "stream",
     "text": [
      "(1, 105, 779, 779)\n"
     ]
    }
   ],
   "source": [
    "print(thickness_array.shape)"
   ]
  },
  {
   "cell_type": "code",
   "execution_count": null,
   "metadata": {},
   "outputs": [
    {
     "name": "stderr",
     "output_type": "stream",
     "text": [
      "WARNING: Cannot open file ':/themes/{{ name }}/logo_silhouette.svg', because: No such file or directory\n",
      "WARNING: Cannot open file ':/themes/{{ name }}/logo_silhouette.svg', because: No such file or directory\n",
      "WARNING: Cannot open file ':/themes/{{ name }}/right_arrow.svg', because: No such file or directory\n",
      "WARNING: Cannot open file ':/themes/{{ name }}/right_arrow.svg', because: No such file or directory\n",
      "WARNING: Cannot open file ':/themes/{{ name }}/visibility_off.svg', because: No such file or directory\n",
      "WARNING: Cannot open file ':/themes/{{ name }}/visibility_off.svg', because: No such file or directory\n",
      "WARNING: Cannot open file ':/themes/{{ name }}/pop_out.svg', because: No such file or directory\n",
      "WARNING: Cannot open file ':/themes/{{ name }}/pop_out.svg', because: No such file or directory\n",
      "WARNING: Cannot open file ':/themes/{{ name }}/new_points.svg', because: No such file or directory\n",
      "WARNING: Cannot open file ':/themes/{{ name }}/new_points.svg', because: No such file or directory\n",
      "WARNING: Cannot open file ':/themes/{{ name }}/new_shapes.svg', because: No such file or directory\n",
      "WARNING: Cannot open file ':/themes/{{ name }}/new_shapes.svg', because: No such file or directory\n",
      "WARNING: Cannot open file ':/themes/{{ name }}/new_labels.svg', because: No such file or directory\n",
      "WARNING: Cannot open file ':/themes/{{ name }}/new_labels.svg', because: No such file or directory\n",
      "WARNING: Cannot open file ':/themes/{{ name }}/console.svg', because: No such file or directory\n",
      "WARNING: Cannot open file ':/themes/{{ name }}/console.svg', because: No such file or directory\n",
      "WARNING: Cannot open file ':/themes/{{ name }}/roll.svg', because: No such file or directory\n",
      "WARNING: Cannot open file ':/themes/{{ name }}/roll.svg', because: No such file or directory\n",
      "WARNING: Cannot open file ':/themes/{{ name }}/transpose.svg', because: No such file or directory\n",
      "WARNING: Cannot open file ':/themes/{{ name }}/transpose.svg', because: No such file or directory\n",
      "WARNING: Cannot open file ':/themes/{{ name }}/home.svg', because: No such file or directory\n",
      "WARNING: Cannot open file ':/themes/{{ name }}/home.svg', because: No such file or directory\n",
      "WARNING: Cannot open file ':/themes/{{ name }}/visibility_off.svg', because: No such file or directory\n",
      "WARNING: Cannot open file ':/themes/{{ name }}/visibility_off.svg', because: No such file or directory\n",
      "WARNING: Cannot open file ':/themes/{{ name }}/pop_out.svg', because: No such file or directory\n",
      "WARNING: Cannot open file ':/themes/{{ name }}/pop_out.svg', because: No such file or directory\n",
      "WARNING: Cannot open file ':/themes/{{ name }}/right_arrow.svg', because: No such file or directory\n",
      "WARNING: Cannot open file ':/themes/{{ name }}/right_arrow.svg', because: No such file or directory\n"
     ]
    },
    {
     "data": {
      "text/plain": [
       "Viewer(camera=Camera(center=(52.0, 389.0, 389.0), zoom=1.0304878048780488, angles=(0.0, 0.0, 90.0), perspective=0.0, mouse_pan=True, mouse_zoom=True), cursor=Cursor(position=(0.0, 52.0, 0.0, 0.0), scaled=True, size=1, style=<CursorStyle.STANDARD: 'standard'>), dims=Dims(ndim=4, ndisplay=3, last_used=0, range=((0.0, 5.0, 5.0), (0.0, 105.0, 1.0), (0.0, 779.0, 1.0), (0.0, 779.0, 1.0)), current_step=(0, 52, 389, 389), order=(0, 1, 2, 3), axis_labels=('0', '1', '2', '3')), grid=GridCanvas(stride=1, shape=(-1, -1), enabled=False), layers=[<Image layer 'timething' at 0x2b1600950>], help='use <2> for transform', status='Ready', tooltip=Tooltip(visible=False, text=''), theme='dark', title='napari', mouse_over_canvas=False, mouse_move_callbacks=[], mouse_drag_callbacks=[], mouse_double_click_callbacks=[], mouse_wheel_callbacks=[<function dims_scroll at 0x28524eb60>], _persisted_mouse_event={}, _mouse_drag_gen={}, _mouse_wheel_gen={}, keymap={})"
      ]
     },
     "execution_count": 28,
     "metadata": {},
     "output_type": "execute_result"
    },
    {
     "name": "stderr",
     "output_type": "stream",
     "text": [
      "WARNING: Cannot open file ':/themes/{{ name }}/drop_down_50.svg', because: No such file or directory\n",
      "WARNING: Cannot open file ':/themes/{{ name }}/drop_down_50.svg', because: No such file or directory\n",
      "WARNING: Cannot open file ':/themes/{{ name }}/visibility_off.svg', because: No such file or directory\n",
      "WARNING: Cannot open file ':/themes/{{ name }}/visibility_off.svg', because: No such file or directory\n",
      "WARNING: Cannot open file ':/themes/{{ name }}/visibility.svg', because: No such file or directory\n",
      "WARNING: Cannot open file ':/themes/{{ name }}/visibility.svg', because: No such file or directory\n",
      "WARNING: Cannot open file ':/themes/{{ name }}/long_right_arrow.svg', because: No such file or directory\n",
      "WARNING: Cannot open file ':/themes/{{ name }}/long_right_arrow.svg', because: No such file or directory\n"
     ]
    }
   ],
   "source": [
    "nap.view_image(thickness_array, name='timething', colormap='magma', blending='additive', scale=[5, 1, 1, 1], ndisplay=3)"
   ]
  },
  {
   "cell_type": "code",
   "execution_count": null,
   "metadata": {},
   "outputs": [],
   "source": []
  }
 ],
 "metadata": {
  "kernelspec": {
   "display_name": "fluids",
   "language": "python",
   "name": "python3"
  },
  "language_info": {
   "codemirror_mode": {
    "name": "ipython",
    "version": 3
   },
   "file_extension": ".py",
   "mimetype": "text/x-python",
   "name": "python",
   "nbconvert_exporter": "python",
   "pygments_lexer": "ipython3",
   "version": "3.11.7"
  }
 },
 "nbformat": 4,
 "nbformat_minor": 2
}
